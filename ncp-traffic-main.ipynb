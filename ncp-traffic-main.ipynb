{
 "cells": [
  {
   "cell_type": "code",
   "execution_count": 1,
   "id": "aboriginal-marsh",
   "metadata": {},
   "outputs": [
    {
     "data": {
      "text/plain": [
       "'\\nCOMPSCI 760 Group Project :Extending NCP to supervised learning - traffic dataset \\nFound at https://archive.ics.uci.edu/ml/machine-learning-databases/00492/Metro_Interstate_Traffic_Volume.csv.gz\\nOriginal NCP repo :https://github.com/mlech26l/keras-ncp\\nOriginal LTC repo :https://github.com/raminmh/liquid_time_constant_networks\\n'"
      ]
     },
     "execution_count": 1,
     "metadata": {},
     "output_type": "execute_result"
    }
   ],
   "source": [
    "'''\n",
    "COMPSCI 760 Group Project :Extending NCP to supervised learning - traffic dataset \n",
    "Found at https://archive.ics.uci.edu/ml/machine-learning-databases/00492/Metro_Interstate_Traffic_Volume.csv.gz\n",
    "Original NCP repo :https://github.com/mlech26l/keras-ncp\n",
    "Original LTC repo :https://github.com/raminmh/liquid_time_constant_networks\n",
    "'''"
   ]
  },
  {
   "cell_type": "code",
   "execution_count": 2,
   "id": "closed-equity",
   "metadata": {},
   "outputs": [],
   "source": [
    "import pandas\n",
    "import numpy as np\n",
    "import tensorflow as tf\n",
    "from tensorflow import keras\n",
    "import kerasncp\n",
    "from kerasncp import wirings\n",
    "from kerasncp.tf import LTCCell\n",
    "import matplotlib.pyplot as plt\n",
    "import seaborn as sns\n",
    "import itertools"
   ]
  },
  {
   "cell_type": "code",
   "execution_count": 4,
   "id": "limited-azerbaijan",
   "metadata": {},
   "outputs": [],
   "source": [
    "# change the directory here if needed\n",
    "traffic_data = pandas.read_csv('./data/Metro_Interstate_Traffic_Volume.csv')"
   ]
  },
  {
   "cell_type": "code",
   "execution_count": 5,
   "id": "cloudy-celebration",
   "metadata": {},
   "outputs": [
    {
     "name": "stdout",
     "output_type": "stream",
     "text": [
      "<class 'pandas.core.frame.DataFrame'>\n",
      "RangeIndex: 48204 entries, 0 to 48203\n",
      "Data columns (total 9 columns):\n",
      " #   Column               Non-Null Count  Dtype  \n",
      "---  ------               --------------  -----  \n",
      " 0   holiday              48204 non-null  object \n",
      " 1   temp                 48204 non-null  float64\n",
      " 2   rain_1h              48204 non-null  float64\n",
      " 3   snow_1h              48204 non-null  float64\n",
      " 4   clouds_all           48204 non-null  int64  \n",
      " 5   weather_main         48204 non-null  object \n",
      " 6   weather_description  48204 non-null  object \n",
      " 7   date_time            48204 non-null  object \n",
      " 8   traffic_volume       48204 non-null  int64  \n",
      "dtypes: float64(3), int64(2), object(4)\n",
      "memory usage: 3.3+ MB\n"
     ]
    }
   ],
   "source": [
    "pandas.DataFrame.info(traffic_data)"
   ]
  },
  {
   "cell_type": "code",
   "execution_count": 6,
   "id": "senior-willow",
   "metadata": {},
   "outputs": [
    {
     "data": {
      "text/html": [
       "<div>\n",
       "<style scoped>\n",
       "    .dataframe tbody tr th:only-of-type {\n",
       "        vertical-align: middle;\n",
       "    }\n",
       "\n",
       "    .dataframe tbody tr th {\n",
       "        vertical-align: top;\n",
       "    }\n",
       "\n",
       "    .dataframe thead th {\n",
       "        text-align: right;\n",
       "    }\n",
       "</style>\n",
       "<table border=\"1\" class=\"dataframe\">\n",
       "  <thead>\n",
       "    <tr style=\"text-align: right;\">\n",
       "      <th></th>\n",
       "      <th>temp</th>\n",
       "      <th>rain_1h</th>\n",
       "      <th>snow_1h</th>\n",
       "      <th>clouds_all</th>\n",
       "      <th>traffic_volume</th>\n",
       "    </tr>\n",
       "  </thead>\n",
       "  <tbody>\n",
       "    <tr>\n",
       "      <th>count</th>\n",
       "      <td>48204.000000</td>\n",
       "      <td>48204.000000</td>\n",
       "      <td>48204.000000</td>\n",
       "      <td>48204.000000</td>\n",
       "      <td>48204.000000</td>\n",
       "    </tr>\n",
       "    <tr>\n",
       "      <th>mean</th>\n",
       "      <td>281.205870</td>\n",
       "      <td>0.334264</td>\n",
       "      <td>0.000222</td>\n",
       "      <td>49.362231</td>\n",
       "      <td>3259.818355</td>\n",
       "    </tr>\n",
       "    <tr>\n",
       "      <th>std</th>\n",
       "      <td>13.338232</td>\n",
       "      <td>44.789133</td>\n",
       "      <td>0.008168</td>\n",
       "      <td>39.015750</td>\n",
       "      <td>1986.860670</td>\n",
       "    </tr>\n",
       "    <tr>\n",
       "      <th>min</th>\n",
       "      <td>0.000000</td>\n",
       "      <td>0.000000</td>\n",
       "      <td>0.000000</td>\n",
       "      <td>0.000000</td>\n",
       "      <td>0.000000</td>\n",
       "    </tr>\n",
       "    <tr>\n",
       "      <th>25%</th>\n",
       "      <td>272.160000</td>\n",
       "      <td>0.000000</td>\n",
       "      <td>0.000000</td>\n",
       "      <td>1.000000</td>\n",
       "      <td>1193.000000</td>\n",
       "    </tr>\n",
       "    <tr>\n",
       "      <th>50%</th>\n",
       "      <td>282.450000</td>\n",
       "      <td>0.000000</td>\n",
       "      <td>0.000000</td>\n",
       "      <td>64.000000</td>\n",
       "      <td>3380.000000</td>\n",
       "    </tr>\n",
       "    <tr>\n",
       "      <th>75%</th>\n",
       "      <td>291.806000</td>\n",
       "      <td>0.000000</td>\n",
       "      <td>0.000000</td>\n",
       "      <td>90.000000</td>\n",
       "      <td>4933.000000</td>\n",
       "    </tr>\n",
       "    <tr>\n",
       "      <th>max</th>\n",
       "      <td>310.070000</td>\n",
       "      <td>9831.300000</td>\n",
       "      <td>0.510000</td>\n",
       "      <td>100.000000</td>\n",
       "      <td>7280.000000</td>\n",
       "    </tr>\n",
       "  </tbody>\n",
       "</table>\n",
       "</div>"
      ],
      "text/plain": [
       "               temp       rain_1h       snow_1h    clouds_all  traffic_volume\n",
       "count  48204.000000  48204.000000  48204.000000  48204.000000    48204.000000\n",
       "mean     281.205870      0.334264      0.000222     49.362231     3259.818355\n",
       "std       13.338232     44.789133      0.008168     39.015750     1986.860670\n",
       "min        0.000000      0.000000      0.000000      0.000000        0.000000\n",
       "25%      272.160000      0.000000      0.000000      1.000000     1193.000000\n",
       "50%      282.450000      0.000000      0.000000     64.000000     3380.000000\n",
       "75%      291.806000      0.000000      0.000000     90.000000     4933.000000\n",
       "max      310.070000   9831.300000      0.510000    100.000000     7280.000000"
      ]
     },
     "execution_count": 6,
     "metadata": {},
     "output_type": "execute_result"
    }
   ],
   "source": [
    "pandas.DataFrame.describe(traffic_data)"
   ]
  },
  {
   "cell_type": "code",
   "execution_count": 7,
   "id": "mounted-hands",
   "metadata": {},
   "outputs": [],
   "source": [
    "import matplotlib.pyplot as plt\n",
    "import datetime\n",
    "import scipy.stats"
   ]
  },
  {
   "cell_type": "markdown",
   "id": "pediatric-nylon",
   "metadata": {},
   "source": [
    "## Data preprocessing - same as ltc"
   ]
  },
  {
   "cell_type": "code",
   "execution_count": 8,
   "id": "distant-robert",
   "metadata": {},
   "outputs": [],
   "source": [
    "holiday = (traffic_data[\"holiday\"].values == None).astype(np.float32)\n",
    "temp = traffic_data[\"temp\"].values.astype(np.float32)\n",
    "temp -= np.mean(temp) #normalize temp by annual mean\n",
    "rain = traffic_data[\"rain_1h\"].values.astype(np.float32)\n",
    "snow = traffic_data[\"snow_1h\"].values.astype(np.float32)\n",
    "clouds = traffic_data[\"clouds_all\"].values.astype(np.float32)\n",
    "date_time = traffic_data[\"date_time\"].values\n",
    "    #2012-10-02 13:00:00\n",
    "date_time = [datetime.datetime.strptime(d,\"%Y-%m-%d %H:%M:%S\") for d in date_time]\n",
    "weekday = np.array([d.weekday() for d in date_time]).astype(np.float32)\n",
    "noon = np.array([d.hour for d in date_time]).astype(np.float32)\n",
    "noon = np.sin(noon*np.pi/24)\n",
    "\n",
    "features = np.stack([holiday,temp,rain,snow,clouds,weekday,noon],axis=-1)\n",
    "\n",
    "traffic_volume = traffic_data[\"traffic_volume\"].values.astype(np.float32)\n",
    "traffic_volume -= np.mean(traffic_volume) #normalize\n",
    "traffic_volume /= np.std(traffic_volume) #normalize"
   ]
  },
  {
   "cell_type": "markdown",
   "id": "bridal-stake",
   "metadata": {},
   "source": [
    "### Plot the pdf of target variable - traffic_volume"
   ]
  },
  {
   "cell_type": "code",
   "execution_count": 11,
   "id": "functional-michigan",
   "metadata": {},
   "outputs": [
    {
     "data": {
      "text/plain": [
       "<AxesSubplot:ylabel='Density'>"
      ]
     },
     "execution_count": 11,
     "metadata": {},
     "output_type": "execute_result"
    },
    {
     "data": {
      "image/png": "[encoded data removed]",
      "text/plain": [
       "<Figure size 432x288 with 1 Axes>"
      ]
     },
     "metadata": {
      "needs_background": "light"
     },
     "output_type": "display_data"
    }
   ],
   "source": [
    "pandas.Series(traffic_volume).plot.kde()"
   ]
  },
  {
   "cell_type": "code",
   "execution_count": 10,
   "id": "widespread-fence",
   "metadata": {},
   "outputs": [],
   "source": [
    "#np.savetxt(\"preprocessed_traffic_data.csv\", features, delimiter=\",\")"
   ]
  },
  {
   "cell_type": "code",
   "execution_count": 12,
   "id": "unable-desktop",
   "metadata": {},
   "outputs": [],
   "source": [
    "# change the directory here if needed\n",
    "preprocessed_traffic_data = pandas.read_csv('/Users/adrianchoi/Desktop/760/ncp-time-series/preprocessed_traffic_data.csv')"
   ]
  },
  {
   "cell_type": "code",
   "execution_count": 13,
   "id": "atomic-handle",
   "metadata": {},
   "outputs": [
    {
     "data": {
      "text/html": [
       "<div>\n",
       "<style scoped>\n",
       "    .dataframe tbody tr th:only-of-type {\n",
       "        vertical-align: middle;\n",
       "    }\n",
       "\n",
       "    .dataframe tbody tr th {\n",
       "        vertical-align: top;\n",
       "    }\n",
       "\n",
       "    .dataframe thead th {\n",
       "        text-align: right;\n",
       "    }\n",
       "</style>\n",
       "<table border=\"1\" class=\"dataframe\">\n",
       "  <thead>\n",
       "    <tr style=\"text-align: right;\">\n",
       "      <th></th>\n",
       "      <th>holiday</th>\n",
       "      <th>temp</th>\n",
       "      <th>rain</th>\n",
       "      <th>snow</th>\n",
       "      <th>clouds</th>\n",
       "      <th>weeday</th>\n",
       "      <th>noon</th>\n",
       "    </tr>\n",
       "  </thead>\n",
       "  <tbody>\n",
       "    <tr>\n",
       "      <th>count</th>\n",
       "      <td>48204.0</td>\n",
       "      <td>48204.000000</td>\n",
       "      <td>48204.000000</td>\n",
       "      <td>48204.000000</td>\n",
       "      <td>48204.000000</td>\n",
       "      <td>48204.000000</td>\n",
       "      <td>48204.000000</td>\n",
       "    </tr>\n",
       "    <tr>\n",
       "      <th>mean</th>\n",
       "      <td>0.0</td>\n",
       "      <td>-0.002409</td>\n",
       "      <td>0.334240</td>\n",
       "      <td>0.000222</td>\n",
       "      <td>49.362231</td>\n",
       "      <td>2.984980</td>\n",
       "      <td>0.633094</td>\n",
       "    </tr>\n",
       "    <tr>\n",
       "      <th>std</th>\n",
       "      <td>0.0</td>\n",
       "      <td>13.337713</td>\n",
       "      <td>44.783215</td>\n",
       "      <td>0.008168</td>\n",
       "      <td>39.015750</td>\n",
       "      <td>2.005941</td>\n",
       "      <td>0.309576</td>\n",
       "    </tr>\n",
       "    <tr>\n",
       "      <th>min</th>\n",
       "      <td>0.0</td>\n",
       "      <td>-281.000000</td>\n",
       "      <td>0.000000</td>\n",
       "      <td>0.000000</td>\n",
       "      <td>0.000000</td>\n",
       "      <td>0.000000</td>\n",
       "      <td>0.000000</td>\n",
       "    </tr>\n",
       "    <tr>\n",
       "      <th>25%</th>\n",
       "      <td>0.0</td>\n",
       "      <td>-9.050000</td>\n",
       "      <td>0.000000</td>\n",
       "      <td>0.000000</td>\n",
       "      <td>1.000000</td>\n",
       "      <td>1.000000</td>\n",
       "      <td>0.383000</td>\n",
       "    </tr>\n",
       "    <tr>\n",
       "      <th>50%</th>\n",
       "      <td>0.0</td>\n",
       "      <td>1.240000</td>\n",
       "      <td>0.000000</td>\n",
       "      <td>0.000000</td>\n",
       "      <td>64.000000</td>\n",
       "      <td>3.000000</td>\n",
       "      <td>0.707000</td>\n",
       "    </tr>\n",
       "    <tr>\n",
       "      <th>75%</th>\n",
       "      <td>0.0</td>\n",
       "      <td>10.600000</td>\n",
       "      <td>0.000000</td>\n",
       "      <td>0.000000</td>\n",
       "      <td>90.000000</td>\n",
       "      <td>5.000000</td>\n",
       "      <td>0.924000</td>\n",
       "    </tr>\n",
       "    <tr>\n",
       "      <th>max</th>\n",
       "      <td>0.0</td>\n",
       "      <td>28.900000</td>\n",
       "      <td>9830.000000</td>\n",
       "      <td>0.510000</td>\n",
       "      <td>100.000000</td>\n",
       "      <td>6.000000</td>\n",
       "      <td>1.000000</td>\n",
       "    </tr>\n",
       "  </tbody>\n",
       "</table>\n",
       "</div>"
      ],
      "text/plain": [
       "       holiday          temp          rain          snow        clouds  \\\n",
       "count  48204.0  48204.000000  48204.000000  48204.000000  48204.000000   \n",
       "mean       0.0     -0.002409      0.334240      0.000222     49.362231   \n",
       "std        0.0     13.337713     44.783215      0.008168     39.015750   \n",
       "min        0.0   -281.000000      0.000000      0.000000      0.000000   \n",
       "25%        0.0     -9.050000      0.000000      0.000000      1.000000   \n",
       "50%        0.0      1.240000      0.000000      0.000000     64.000000   \n",
       "75%        0.0     10.600000      0.000000      0.000000     90.000000   \n",
       "max        0.0     28.900000   9830.000000      0.510000    100.000000   \n",
       "\n",
       "             weeday          noon  \n",
       "count  48204.000000  48204.000000  \n",
       "mean       2.984980      0.633094  \n",
       "std        2.005941      0.309576  \n",
       "min        0.000000      0.000000  \n",
       "25%        1.000000      0.383000  \n",
       "50%        3.000000      0.707000  \n",
       "75%        5.000000      0.924000  \n",
       "max        6.000000      1.000000  "
      ]
     },
     "execution_count": 13,
     "metadata": {},
     "output_type": "execute_result"
    }
   ],
   "source": [
    "pandas.DataFrame.describe(preprocessed_traffic_data)"
   ]
  },
  {
   "cell_type": "code",
   "execution_count": 14,
   "id": "welcome-product",
   "metadata": {},
   "outputs": [],
   "source": [
    "def cut_in_sequences(x,y,seq_len,inc=1):\n",
    "\n",
    "    sequences_x = []\n",
    "    sequences_y = []\n",
    "\n",
    "    for s in range(0,x.shape[0] - seq_len,inc):\n",
    "        start = s\n",
    "        end = start+seq_len\n",
    "        sequences_x.append(x[start:end])\n",
    "        sequences_y.append(y[start:end])\n",
    "\n",
    "    return np.stack(sequences_x,axis=1),np.stack(sequences_y,axis=1)"
   ]
  },
  {
   "cell_type": "code",
   "execution_count": 15,
   "id": "cathedral-command",
   "metadata": {},
   "outputs": [
    {
     "name": "stdout",
     "output_type": "stream",
     "text": [
      "Total number of training sequences: 32\n"
     ]
    }
   ],
   "source": [
    "train_x,train_y = cut_in_sequences(features,traffic_volume,32,inc=4)\n",
    "train_x = np.stack(train_x,axis=1)\n",
    "train_y = np.stack(train_y,axis=1)\n",
    "\n",
    "total_seqs = train_x.shape[1]\n",
    "print(\"Total number of training sequences: {}\".format(total_seqs))\n",
    "permutation = np.random.RandomState(23489).permutation(total_seqs)\n",
    "valid_size = int(0.1*total_seqs)\n",
    "test_size = int(0.15*total_seqs)\n",
    "valid_x = train_x[:,permutation[:valid_size]]\n",
    "valid_y = train_y[:,permutation[:valid_size]]\n",
    "test_x = train_x[:,permutation[valid_size:valid_size+test_size]]\n",
    "test_y = train_y[:,permutation[valid_size:valid_size+test_size]]\n",
    "train_x = train_x[:,permutation[valid_size+test_size:]]\n",
    "train_y = train_y[:,permutation[valid_size+test_size:]]\n"
   ]
  },
  {
   "cell_type": "code",
   "execution_count": 16,
   "id": "higher-model",
   "metadata": {},
   "outputs": [],
   "source": [
    "# cut the data in a sequence of length 32\n",
    "train_x,train_y = cut_in_sequences(features,traffic_volume,32,inc=4)\n",
    "train_x = np.stack(train_x,axis=1)\n",
    "train_y = np.stack(train_y,axis=1)"
   ]
  },
  {
   "cell_type": "markdown",
   "id": "developmental-string",
   "metadata": {},
   "source": [
    "## Experiments on randomly connected NCP"
   ]
  },
  {
   "cell_type": "code",
   "execution_count": null,
   "id": "billion-expense",
   "metadata": {},
   "outputs": [],
   "source": [
    "neurons = [3,6,8,10]\n",
    "\n",
    "# higher sparsity is likely to cause overfitting\n",
    "sparsity = [0.2,0.3,0.4,0.5]\n",
    "\n",
    "# epochs\n",
    "epochs_n = 20\n",
    "\n",
    "# batch size\n",
    "batch_size_n = 16\n",
    "\n",
    "# random seeds\n",
    "random_seeds = [1111,1112,1113,1114,1115]\n",
    "\n",
    "# a dict that stores all test loss, key = random_seed\n",
    "all_test_loss_dic = {}"
   ]
  },
  {
   "cell_type": "markdown",
   "id": "removable-oregon",
   "metadata": {},
   "source": [
    "#### Note that for output graphs, please refer to the ncp-traffic-raw"
   ]
  },
  {
   "cell_type": "code",
   "execution_count": null,
   "id": "junior-chorus",
   "metadata": {},
   "outputs": [],
   "source": [
    "# Experiment with hyparameters - number of neurons, sparsity, random seeds\n",
    "for r in random_seeds:\n",
    "    all_test_loss_dic[r] = []\n",
    "    for i in neurons:\n",
    "        for j in sparsity: \n",
    "            print(str(i)+' neurons,'+' '+str(j)+' sparsity,'+' '+'random seed = '+str(r))\n",
    "            arch = kerasncp.wirings.Random(i, 1, sparsity_level=j, random_seed = r)\n",
    "            rnn_cell = LTCCell(arch)\n",
    "            model = tf.keras.models.Sequential(\n",
    "                [\n",
    "                    tf.keras.Input((None, 7)),\n",
    "                    tf.keras.layers.RNN(rnn_cell, return_sequences=True),\n",
    "                ]\n",
    "            )\n",
    "            model.compile(\n",
    "                optimizer=tf.keras.optimizers.Adam(0.01,epsilon=1e-08), loss=tf.keras.losses.MeanSquaredError()\n",
    "            )\n",
    "\n",
    "            traffic_ncp_history = model.fit(x=train_x, y=train_y, batch_size=batch_size_n, epochs=epochs_n, validation_data=(valid_x,valid_y))\n",
    "            test_loss = round(model.evaluate(test_x,test_y, batch_size_n),4)\n",
    "            all_test_loss_dic[r].append(test_loss)\n",
    "            loss_train = traffic_ncp_history.history['loss']\n",
    "            loss_val = traffic_ncp_history.history['val_loss']\n",
    "            epochs = range(1,epochs_n+1)\n",
    "            plt.plot(epochs, loss_train, 'g', label='Training loss')\n",
    "            plt.plot(epochs, loss_val, 'b', label='validation loss')\n",
    "            plt.title('Training and Validation MSE loss ')\n",
    "            plt.xlabel('Epochs')\n",
    "            plt.ylabel('Loss')\n",
    "            plt.legend()\n",
    "            plt.show()"
   ]
  },
  {
   "cell_type": "markdown",
   "id": "empirical-paris",
   "metadata": {},
   "source": [
    "## Experiments on NCP topology"
   ]
  },
  {
   "cell_type": "markdown",
   "id": "naked-terrorist",
   "metadata": {},
   "source": [
    "#### Note that for output graphs, please refer to the ncp-traffic-raw"
   ]
  },
  {
   "cell_type": "code",
   "execution_count": null,
   "id": "processed-heather",
   "metadata": {},
   "outputs": [],
   "source": [
    "## interneurons and command neurons for iteractions\n",
    "param = [2,3,5]\n",
    "for r in itertools.product(param, param):\n",
    "    print('Inter neurons:',r[0],'command neurons:',r[1])\n",
    "    arch = kerasncp.wirings.NCP(\n",
    "    inter_neurons=r[0],  # Number of inter neurons\n",
    "    command_neurons=r[1],  # Number of command neurons\n",
    "    motor_neurons=1,  # Number of motor neurons\n",
    "    sensory_fanout=2,  # How many outgoing synapses has each sensory neuron\n",
    "    inter_fanout=2,  # How many outgoing synapses has each inter neuron\n",
    "    recurrent_command_synapses=3,  # Now many recurrent synapses are in the\n",
    "    # command neuron layer\n",
    "    motor_fanin=2,  # How many incoming synapses has each motor neuron\n",
    ")\n",
    "    rnn_cell = LTCCell(arch)\n",
    "    model = tf.keras.models.Sequential(\n",
    "            [\n",
    "                tf.keras.Input((None, 7)),\n",
    "                tf.keras.layers.RNN(rnn_cell, return_sequences=True),\n",
    "            ]\n",
    "        )\n",
    "    model.compile(\n",
    "            optimizer=tf.keras.optimizers.Adam(0.01,epsilon=1e-08), loss=tf.keras.losses.MeanSquaredError()\n",
    "        )\n",
    "    traffic_ncp_history = model.fit(x=train_x, y=train_y, batch_size=batch_size_n, epochs=epochs_n, validation_data=(valid_x,valid_y))\n",
    "    loss_train = traffic_ncp_history.history['loss']\n",
    "    loss_val = traffic_ncp_history.history['val_loss']\n",
    "    epochs = range(1,epochs_n+1)\n",
    "    plt.plot(epochs, loss_train, 'g', label='Training loss')\n",
    "    plt.plot(epochs, loss_val, 'b', label='validation loss')\n",
    "    plt.title('Training and Validation MSE loss ')\n",
    "    plt.xlabel('Epochs')\n",
    "    plt.ylabel('Loss')\n",
    "    plt.legend()\n",
    "    plt.show()"
   ]
  },
  {
   "cell_type": "code",
   "execution_count": null,
   "id": "narrative-blues",
   "metadata": {},
   "outputs": [],
   "source": []
  }
 ],
 "metadata": {
  "kernelspec": {
   "display_name": "Python 3",
   "language": "python",
   "name": "python3"
  },
  "language_info": {
   "codemirror_mode": {
    "name": "ipython",
    "version": 3
   },
   "file_extension": ".py",
   "mimetype": "text/x-python",
   "name": "python",
   "nbconvert_exporter": "python",
   "pygments_lexer": "ipython3",
   "version": "3.7.10"
  }
 },
 "nbformat": 4,
 "nbformat_minor": 5
}
