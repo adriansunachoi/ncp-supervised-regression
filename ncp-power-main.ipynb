{
 "cells": [
  {
   "cell_type": "code",
   "execution_count": 93,
   "id": "promotional-florence",
   "metadata": {},
   "outputs": [
    {
     "data": {
      "text/plain": [
       "'\\nCOMPSCI 760 Group Project :Extending NCP to supervised learning - power dataset \\nFound at https://archive.ics.uci.edu/ml/datasets/individual+household+electric+power+consumption\\nOriginal NCP repo :https://github.com/mlech26l/keras-ncp\\nOriginal LTC repo :https://github.com/raminmh/liquid_time_constant_networks\\n'"
      ]
     },
     "execution_count": 93,
     "metadata": {},
     "output_type": "execute_result"
    }
   ],
   "source": [
    "'''\n",
    "COMPSCI 760 Group Project :Extending NCP to supervised learning - power dataset \n",
    "Found at https://archive.ics.uci.edu/ml/datasets/individual+household+electric+power+consumption\n",
    "Original NCP repo :https://github.com/mlech26l/keras-ncp\n",
    "Original LTC repo :https://github.com/raminmh/liquid_time_constant_networks\n",
    "'''"
   ]
  },
  {
   "cell_type": "code",
   "execution_count": 94,
   "id": "cooked-multiple",
   "metadata": {},
   "outputs": [],
   "source": [
    "import pandas\n",
    "import numpy as np\n",
    "import tensorflow as tf\n",
    "from tensorflow import keras\n",
    "import kerasncp\n",
    "from kerasncp import wirings\n",
    "from kerasncp.tf import LTCCell\n",
    "import matplotlib.pyplot as plt\n",
    "import seaborn as sns\n",
    "import datetime as dt\n",
    "from tqdm import tqdm\n",
    "import scipy.stats"
   ]
  },
  {
   "cell_type": "markdown",
   "id": "dramatic-broad",
   "metadata": {},
   "source": [
    "## Data preprocessing - same as ltc"
   ]
  },
  {
   "cell_type": "code",
   "execution_count": 95,
   "id": "checked-calcium",
   "metadata": {},
   "outputs": [],
   "source": [
    "def convert_to_floats(feature_col,memory):\n",
    "    for i in range(len(feature_col)):\n",
    "        if(feature_col[i]==\"?\" or feature_col[i] == \"\\n\"):\n",
    "            feature_col[i] = memory[i]\n",
    "        else:\n",
    "            feature_col[i] = float(feature_col[i])\n",
    "            memory[i] = feature_col[i]\n",
    "    return feature_col,memory\n",
    "\n",
    "def load_crappy_formated_csv():\n",
    "\n",
    "    all_x = []    \n",
    "    with open(\"./data/household_power_consumption.txt\",\"r\") as f:\n",
    "        lineno = -1\n",
    "        memory = [i for i in range(7)]\n",
    "        for line in f:\n",
    "            lineno += 1\n",
    "            if(lineno == 0):\n",
    "                continue\n",
    "            arr = line.split(\";\")\n",
    "            if(len(arr)<8):\n",
    "                continue\n",
    "            feature_col = arr[2:]\n",
    "            feature_col,memory = convert_to_floats(feature_col,memory)\n",
    "            all_x.append(np.array(feature_col,dtype=np.float32))\n",
    "\n",
    "    all_x = np.stack(all_x,axis=0)\n",
    "    all_x -= np.mean(all_x,axis=0) #normalize\n",
    "    all_x /= np.std(all_x,axis=0) #normalize\n",
    "\n",
    "    all_y = all_x[:,0].reshape([-1,1])\n",
    "    all_x = all_x[:,1:]\n",
    "\n",
    "\n",
    "    return all_x,all_y\n",
    "\n",
    "\n",
    "def cut_in_sequences(x,y,seq_len,inc=1):\n",
    "\n",
    "    sequences_x = []\n",
    "    sequences_y = []\n",
    "\n",
    "    for s in range(0,x.shape[0] - seq_len,inc):\n",
    "        start = s\n",
    "        end = start+seq_len\n",
    "        sequences_x.append(x[start:end])\n",
    "        sequences_y.append(y[start:end])\n",
    "\n",
    "    return np.stack(sequences_x,axis=1),np.stack(sequences_y,axis=1)      "
   ]
  },
  {
   "cell_type": "code",
   "execution_count": 90,
   "id": "inappropriate-nirvana",
   "metadata": {},
   "outputs": [
    {
     "name": "stdout",
     "output_type": "stream",
     "text": [
      "train_x.shape: (32, 64851, 6)\n",
      "train_y.shape: (32, 64851, 1)\n",
      "Total number of training sequences: 64851\n"
     ]
    }
   ],
   "source": [
    "x,y = load_crappy_formated_csv()\n",
    "        \n",
    "train_x,train_y = cut_in_sequences(x,y,32,inc=32)\n",
    "\n",
    "print(\"train_x.shape:\",str(train_x.shape))\n",
    "print(\"train_y.shape:\",str(train_y.shape))\n",
    "\n",
    "\n",
    "total_seqs = train_x.shape[1]\n",
    "print(\"Total number of training sequences: {}\".format(total_seqs))\n",
    "permutation = np.random.RandomState(23489).permutation(total_seqs)\n",
    "valid_size = int(0.1*total_seqs)\n",
    "test_size = int(0.15*total_seqs)\n",
    "\n",
    "valid_x = train_x[:,permutation[:valid_size]]\n",
    "valid_y = train_y[:,permutation[:valid_size]]\n",
    "test_x = train_x[:,permutation[valid_size:valid_size+test_size]]\n",
    "test_y = train_y[:,permutation[valid_size:valid_size+test_size]]\n",
    "train_x = train_x[:,permutation[valid_size+test_size:]]\n",
    "train_y = train_y[:,permutation[valid_size+test_size:]]"
   ]
  },
  {
   "cell_type": "markdown",
   "id": "internal-orange",
   "metadata": {},
   "source": [
    "### Plot the pdf of target variable - traffic_volume"
   ]
  },
  {
   "cell_type": "code",
   "execution_count": 82,
   "id": "worst-verification",
   "metadata": {},
   "outputs": [
    {
     "name": "stderr",
     "output_type": "stream",
     "text": [
      "100%|██████████| 2075259/2075259 [00:01<00:00, 1535261.09it/s]\n"
     ]
    }
   ],
   "source": [
    "# to plot the prob density of the target variable\n",
    "yy = []\n",
    "out = np.empty(y.shape[0], dtype=object)\n",
    "y_list = y.tolist()\n",
    "for i in tqdm(range(len(y))):\n",
    "    yy.append(y_list[i][0])\n",
    "out[:] = yy"
   ]
  },
  {
   "cell_type": "code",
   "execution_count": 83,
   "id": "varied-algebra",
   "metadata": {
    "scrolled": true
   },
   "outputs": [
    {
     "data": {
      "text/plain": [
       "<AxesSubplot:ylabel='Density'>"
      ]
     },
     "execution_count": 83,
     "metadata": {},
     "output_type": "execute_result"
    },
    {
     "data": {
      "image/png": "[encoded data removed]",
      "text/plain": [
       "<Figure size 432x288 with 1 Axes>"
      ]
     },
     "metadata": {
      "needs_background": "light"
     },
     "output_type": "display_data"
    }
   ],
   "source": [
    "pandas.Series(out).plot.kde()"
   ]
  },
  {
   "cell_type": "markdown",
   "id": "vertical-scout",
   "metadata": {},
   "source": [
    "## Experiments on randomly connected NCP"
   ]
  },
  {
   "cell_type": "code",
   "execution_count": 98,
   "id": "extreme-turkish",
   "metadata": {},
   "outputs": [],
   "source": [
    "neurons = [3,6,8]\n",
    "\n",
    "# higher sparsity is likely to cause overfitting\n",
    "sparsity = [0.2,0.3,0.4]\n",
    "\n",
    "# epochs\n",
    "epochs_n = 20\n",
    "\n",
    "# batch size\n",
    "batch_size_n = 16\n",
    "\n",
    "# random seeds\n",
    "random_seeds = [1111,1112,1113,1114,1115]\n",
    "\n",
    "# a dict that stores all test loss, key = random_seed\n",
    "all_test_loss_dic = {}"
   ]
  },
  {
   "cell_type": "code",
   "execution_count": null,
   "id": "proper-occasion",
   "metadata": {},
   "outputs": [
    {
     "name": "stdout",
     "output_type": "stream",
     "text": [
      "3 neurons, 0.2 sparsity, random seed = 1111\n",
      "Epoch 1/20\n"
     ]
    }
   ],
   "source": [
    "# Experiment with hyparameters - number of neurons, sparsity, random seeds\n",
    "for r in random_seeds:\n",
    "    all_test_loss_dic[r] = []\n",
    "    for i in neurons:\n",
    "        for j in sparsity: \n",
    "            print(str(i)+' neurons,'+' '+str(j)+' sparsity,'+' '+'random seed = '+str(r))\n",
    "            arch = kerasncp.wirings.Random(i, 1, sparsity_level=j, random_seed = r)\n",
    "            rnn_cell = LTCCell(arch)\n",
    "            model = tf.keras.models.Sequential(\n",
    "                [\n",
    "                    tf.keras.Input((None, 6)),\n",
    "                    tf.keras.layers.RNN(rnn_cell, return_sequences=True),\n",
    "                ]\n",
    "            )\n",
    "            model.compile(\n",
    "                optimizer=tf.keras.optimizers.Adam(0.01,epsilon=1e-08), loss=tf.keras.losses.MeanSquaredError()\n",
    "            )\n",
    "\n",
    "            traffic_ncp_history = model.fit(x=train_x, y=train_y, batch_size=batch_size_n, epochs=epochs_n, validation_data=(valid_x,valid_y))\n",
    "            test_loss = round(model.evaluate(test_x,test_y, batch_size_n),4)\n",
    "            all_test_loss_dic[r].append(test_loss)\n",
    "            loss_train = traffic_ncp_history.history['loss']\n",
    "            loss_val = traffic_ncp_history.history['val_loss']\n",
    "            epochs = range(1,epochs_n+1)\n",
    "            plt.plot(epochs, loss_train, 'g', label='Training loss')\n",
    "            plt.plot(epochs, loss_val, 'b', label='validation loss')\n",
    "            plt.title('Training and Validation MSE loss ')\n",
    "            plt.xlabel('Epochs')\n",
    "            plt.ylabel('Loss')\n",
    "            plt.legend()\n",
    "            #plt.show()\n",
    "            filename = 'rd'+str(r)+'_'+str(i)+'_'+str(j)[0]+str(j)[2]\n",
    "            plt.savefig('power_img/'+filename)\n",
    "            plt.pause(1)"
   ]
  },
  {
   "cell_type": "markdown",
   "id": "progressive-governor",
   "metadata": {},
   "source": [
    "## Experiments on NCP topology"
   ]
  },
  {
   "cell_type": "markdown",
   "id": "million-mounting",
   "metadata": {},
   "source": [
    "#### For graphs, please refer to the power_img folder"
   ]
  },
  {
   "cell_type": "code",
   "execution_count": null,
   "id": "improved-commitment",
   "metadata": {},
   "outputs": [],
   "source": [
    "# interneurons and command neurons for iteractions\n",
    "param = [2,3,5]\n",
    "\n",
    "for r in itertools.product(param, param):\n",
    "    print('Inter neurons:',r[0],'command neurons',r[1])\n",
    "    arch = kerasncp.wirings.NCP(\n",
    "    inter_neurons=r[0],  # Number of inter neurons\n",
    "    command_neurons=r[1],  # Number of command neurons\n",
    "    motor_neurons=1,  # Number of motor neurons\n",
    "    sensory_fanout=2,  # How many outgoing synapses has each sensory neuron\n",
    "    inter_fanout=2,  # How many outgoing synapses has each inter neuron\n",
    "    recurrent_command_synapses=3,  # Now many recurrent synapses are in the\n",
    "    # command neuron layer\n",
    "    motor_fanin=2,  # How many incoming synapses has each motor neuron\n",
    ")\n",
    "    rnn_cell = LTCCell(arch)\n",
    "    model = tf.keras.models.Sequential(\n",
    "            [\n",
    "                tf.keras.Input((None, 6)),\n",
    "                tf.keras.layers.RNN(rnn_cell, return_sequences=True),\n",
    "            ]\n",
    "        )\n",
    "    model.compile(\n",
    "            optimizer=tf.keras.optimizers.Adam(0.01,epsilon=1e-08), loss=tf.keras.losses.MeanSquaredError()\n",
    "        )\n",
    "    traffic_ncp_history = model.fit(x=train_x, y=train_y, batch_size=batch_size_n, epochs=epochs_n, validation_data=(valid_x,valid_y))\n",
    "    test_loss = round(model.evaluate(test_x,test_y, batch_size_n),4)\n",
    "    #all_test_loss.append(str(i)+'_'+str(j)[0]+str(j)[2]+':'+str(test_loss))\n",
    "    loss_train = traffic_ncp_history.history['loss']\n",
    "    loss_val = traffic_ncp_history.history['val_loss']\n",
    "    epochs = range(1,epochs_n+1)\n",
    "    plt.plot(epochs, loss_train, 'g', label='Training loss')\n",
    "    plt.plot(epochs, loss_val, 'b', label='validation loss')\n",
    "    plt.title('Training and Validation MSE loss ')\n",
    "    plt.xlabel('Epochs')\n",
    "    plt.ylabel('Loss')\n",
    "    plt.legend()\n",
    "    plt.show()"
   ]
  },
  {
   "cell_type": "code",
   "execution_count": null,
   "id": "institutional-scholarship",
   "metadata": {},
   "outputs": [],
   "source": []
  }
 ],
 "metadata": {
  "kernelspec": {
   "display_name": "Python 3",
   "language": "python",
   "name": "python3"
  },
  "language_info": {
   "codemirror_mode": {
    "name": "ipython",
    "version": 3
   },
   "file_extension": ".py",
   "mimetype": "text/x-python",
   "name": "python",
   "nbconvert_exporter": "python",
   "pygments_lexer": "ipython3",
   "version": "3.7.10"
  }
 },
 "nbformat": 4,
 "nbformat_minor": 5
}
